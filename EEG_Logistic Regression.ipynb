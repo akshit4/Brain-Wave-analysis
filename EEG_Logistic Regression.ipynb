{
 "cells": [
  {
   "cell_type": "code",
   "execution_count": 1,
   "id": "47c5d58d",
   "metadata": {},
   "outputs": [],
   "source": [
    "#Import Libraries\n",
    "import numpy as np #Numerical Operations\n",
    "import pandas as pd #Dataframe\n",
    "import seaborn as sns #Data Visualiation\n",
    "import matplotlib.pyplot as plt #Data Visualiation"
   ]
  },
  {
   "cell_type": "code",
   "execution_count": 2,
   "id": "fd401ed3",
   "metadata": {},
   "outputs": [],
   "source": [
    "df=pd.read_csv(\"eeg_updated.csv\")"
   ]
  },
  {
   "cell_type": "code",
   "execution_count": 3,
   "id": "e94cc674",
   "metadata": {},
   "outputs": [
    {
     "data": {
      "text/html": [
       "<div>\n",
       "<style scoped>\n",
       "    .dataframe tbody tr th:only-of-type {\n",
       "        vertical-align: middle;\n",
       "    }\n",
       "\n",
       "    .dataframe tbody tr th {\n",
       "        vertical-align: top;\n",
       "    }\n",
       "\n",
       "    .dataframe thead th {\n",
       "        text-align: right;\n",
       "    }\n",
       "</style>\n",
       "<table border=\"1\" class=\"dataframe\">\n",
       "  <thead>\n",
       "    <tr style=\"text-align: right;\">\n",
       "      <th></th>\n",
       "      <th>Unnamed: 0</th>\n",
       "      <th>video_id</th>\n",
       "      <th>subject_id</th>\n",
       "      <th>EEG.AF3</th>\n",
       "      <th>EEG.F7</th>\n",
       "      <th>EEG.F3</th>\n",
       "      <th>EEG.FC5</th>\n",
       "      <th>EEG.T7</th>\n",
       "      <th>EEG.P7</th>\n",
       "      <th>EEG.O1</th>\n",
       "      <th>...</th>\n",
       "      <th>POW.AF4.Theta</th>\n",
       "      <th>POW.AF4.Alpha</th>\n",
       "      <th>POW.AF4.BetaL</th>\n",
       "      <th>POW.AF4.BetaH</th>\n",
       "      <th>POW.AF4.Gamma</th>\n",
       "      <th>subject_understood</th>\n",
       "      <th>Age</th>\n",
       "      <th>Education Level</th>\n",
       "      <th>Fields of Interest</th>\n",
       "      <th>Title</th>\n",
       "    </tr>\n",
       "  </thead>\n",
       "  <tbody>\n",
       "    <tr>\n",
       "      <th>0</th>\n",
       "      <td>0</td>\n",
       "      <td>0</td>\n",
       "      <td>0</td>\n",
       "      <td>4210.641113</td>\n",
       "      <td>4179.102539</td>\n",
       "      <td>4287.948730</td>\n",
       "      <td>4235.384766</td>\n",
       "      <td>4207.948730</td>\n",
       "      <td>4165.000000</td>\n",
       "      <td>4135.897461</td>\n",
       "      <td>...</td>\n",
       "      <td>1.801014</td>\n",
       "      <td>1.504794</td>\n",
       "      <td>0.258570</td>\n",
       "      <td>0.435745</td>\n",
       "      <td>0.469483</td>\n",
       "      <td>Not Understood</td>\n",
       "      <td>23</td>\n",
       "      <td>University (4th year)</td>\n",
       "      <td>Business</td>\n",
       "      <td>Quantum Physics</td>\n",
       "    </tr>\n",
       "    <tr>\n",
       "      <th>1</th>\n",
       "      <td>1</td>\n",
       "      <td>0</td>\n",
       "      <td>0</td>\n",
       "      <td>4201.025879</td>\n",
       "      <td>4188.717773</td>\n",
       "      <td>4280.128418</td>\n",
       "      <td>4236.922852</td>\n",
       "      <td>4209.615234</td>\n",
       "      <td>4152.436035</td>\n",
       "      <td>4130.128418</td>\n",
       "      <td>...</td>\n",
       "      <td>1.859177</td>\n",
       "      <td>1.379617</td>\n",
       "      <td>0.317579</td>\n",
       "      <td>0.468416</td>\n",
       "      <td>0.642560</td>\n",
       "      <td>Not Understood</td>\n",
       "      <td>23</td>\n",
       "      <td>University (4th year)</td>\n",
       "      <td>Business</td>\n",
       "      <td>Quantum Physics</td>\n",
       "    </tr>\n",
       "    <tr>\n",
       "      <th>2</th>\n",
       "      <td>2</td>\n",
       "      <td>0</td>\n",
       "      <td>0</td>\n",
       "      <td>4203.205078</td>\n",
       "      <td>4182.820313</td>\n",
       "      <td>4282.820313</td>\n",
       "      <td>4231.025879</td>\n",
       "      <td>4207.820313</td>\n",
       "      <td>4172.436035</td>\n",
       "      <td>4131.538574</td>\n",
       "      <td>...</td>\n",
       "      <td>2.027946</td>\n",
       "      <td>1.283876</td>\n",
       "      <td>0.441925</td>\n",
       "      <td>0.494701</td>\n",
       "      <td>0.798197</td>\n",
       "      <td>Not Understood</td>\n",
       "      <td>23</td>\n",
       "      <td>University (4th year)</td>\n",
       "      <td>Business</td>\n",
       "      <td>Quantum Physics</td>\n",
       "    </tr>\n",
       "    <tr>\n",
       "      <th>3</th>\n",
       "      <td>3</td>\n",
       "      <td>0</td>\n",
       "      <td>0</td>\n",
       "      <td>4186.538574</td>\n",
       "      <td>4168.717773</td>\n",
       "      <td>4266.794922</td>\n",
       "      <td>4229.230957</td>\n",
       "      <td>4202.179688</td>\n",
       "      <td>4155.384766</td>\n",
       "      <td>4128.333496</td>\n",
       "      <td>...</td>\n",
       "      <td>2.265952</td>\n",
       "      <td>1.306188</td>\n",
       "      <td>0.616881</td>\n",
       "      <td>0.506062</td>\n",
       "      <td>0.886495</td>\n",
       "      <td>Not Understood</td>\n",
       "      <td>23</td>\n",
       "      <td>University (4th year)</td>\n",
       "      <td>Business</td>\n",
       "      <td>Quantum Physics</td>\n",
       "    </tr>\n",
       "    <tr>\n",
       "      <th>4</th>\n",
       "      <td>4</td>\n",
       "      <td>0</td>\n",
       "      <td>0</td>\n",
       "      <td>4232.436035</td>\n",
       "      <td>4216.922852</td>\n",
       "      <td>4306.922852</td>\n",
       "      <td>4270.769043</td>\n",
       "      <td>4217.436035</td>\n",
       "      <td>4166.538574</td>\n",
       "      <td>4155.897461</td>\n",
       "      <td>...</td>\n",
       "      <td>2.461205</td>\n",
       "      <td>1.522420</td>\n",
       "      <td>0.822598</td>\n",
       "      <td>0.498361</td>\n",
       "      <td>0.874455</td>\n",
       "      <td>Not Understood</td>\n",
       "      <td>23</td>\n",
       "      <td>University (4th year)</td>\n",
       "      <td>Business</td>\n",
       "      <td>Quantum Physics</td>\n",
       "    </tr>\n",
       "  </tbody>\n",
       "</table>\n",
       "<p>5 rows × 92 columns</p>\n",
       "</div>"
      ],
      "text/plain": [
       "   Unnamed: 0  video_id  subject_id      EEG.AF3       EEG.F7       EEG.F3  \\\n",
       "0           0         0           0  4210.641113  4179.102539  4287.948730   \n",
       "1           1         0           0  4201.025879  4188.717773  4280.128418   \n",
       "2           2         0           0  4203.205078  4182.820313  4282.820313   \n",
       "3           3         0           0  4186.538574  4168.717773  4266.794922   \n",
       "4           4         0           0  4232.436035  4216.922852  4306.922852   \n",
       "\n",
       "       EEG.FC5       EEG.T7       EEG.P7       EEG.O1  ...  POW.AF4.Theta  \\\n",
       "0  4235.384766  4207.948730  4165.000000  4135.897461  ...       1.801014   \n",
       "1  4236.922852  4209.615234  4152.436035  4130.128418  ...       1.859177   \n",
       "2  4231.025879  4207.820313  4172.436035  4131.538574  ...       2.027946   \n",
       "3  4229.230957  4202.179688  4155.384766  4128.333496  ...       2.265952   \n",
       "4  4270.769043  4217.436035  4166.538574  4155.897461  ...       2.461205   \n",
       "\n",
       "   POW.AF4.Alpha  POW.AF4.BetaL  POW.AF4.BetaH  POW.AF4.Gamma  \\\n",
       "0       1.504794       0.258570       0.435745       0.469483   \n",
       "1       1.379617       0.317579       0.468416       0.642560   \n",
       "2       1.283876       0.441925       0.494701       0.798197   \n",
       "3       1.306188       0.616881       0.506062       0.886495   \n",
       "4       1.522420       0.822598       0.498361       0.874455   \n",
       "\n",
       "   subject_understood  Age        Education Level  Fields of Interest  \\\n",
       "0      Not Understood   23  University (4th year)            Business   \n",
       "1      Not Understood   23  University (4th year)            Business   \n",
       "2      Not Understood   23  University (4th year)            Business   \n",
       "3      Not Understood   23  University (4th year)            Business   \n",
       "4      Not Understood   23  University (4th year)            Business   \n",
       "\n",
       "             Title  \n",
       "0  Quantum Physics  \n",
       "1  Quantum Physics  \n",
       "2  Quantum Physics  \n",
       "3  Quantum Physics  \n",
       "4  Quantum Physics  \n",
       "\n",
       "[5 rows x 92 columns]"
      ]
     },
     "execution_count": 3,
     "metadata": {},
     "output_type": "execute_result"
    }
   ],
   "source": [
    "df.head()"
   ]
  },
  {
   "cell_type": "code",
   "execution_count": 4,
   "id": "411b83f2",
   "metadata": {},
   "outputs": [
    {
     "data": {
      "text/plain": [
       "(68831, 92)"
      ]
     },
     "execution_count": 4,
     "metadata": {},
     "output_type": "execute_result"
    }
   ],
   "source": [
    "df.shape"
   ]
  },
  {
   "cell_type": "code",
   "execution_count": 5,
   "id": "deb6c3b3",
   "metadata": {},
   "outputs": [
    {
     "data": {
      "text/plain": [
       "Index(['Unnamed: 0', 'video_id', 'subject_id', 'EEG.AF3', 'EEG.F7', 'EEG.F3',\n",
       "       'EEG.FC5', 'EEG.T7', 'EEG.P7', 'EEG.O1', 'EEG.O2', 'EEG.P8', 'EEG.T8',\n",
       "       'EEG.FC6', 'EEG.F4', 'EEG.F8', 'EEG.AF4', 'POW.AF3.Theta',\n",
       "       'POW.AF3.Alpha', 'POW.AF3.BetaL', 'POW.AF3.BetaH', 'POW.AF3.Gamma',\n",
       "       'POW.F7.Theta', 'POW.F7.Alpha', 'POW.F7.BetaL', 'POW.F7.BetaH',\n",
       "       'POW.F7.Gamma', 'POW.F3.Theta', 'POW.F3.Alpha', 'POW.F3.BetaL',\n",
       "       'POW.F3.BetaH', 'POW.F3.Gamma', 'POW.FC5.Theta', 'POW.FC5.Alpha',\n",
       "       'POW.FC5.BetaL', 'POW.FC5.BetaH', 'POW.FC5.Gamma', 'POW.T7.Theta',\n",
       "       'POW.T7.Alpha', 'POW.T7.BetaL', 'POW.T7.BetaH', 'POW.T7.Gamma',\n",
       "       'POW.P7.Theta', 'POW.P7.Alpha', 'POW.P7.BetaL', 'POW.P7.BetaH',\n",
       "       'POW.P7.Gamma', 'POW.O1.Theta', 'POW.O1.Alpha', 'POW.O1.BetaL',\n",
       "       'POW.O1.BetaH', 'POW.O1.Gamma', 'POW.O2.Theta', 'POW.O2.Alpha',\n",
       "       'POW.O2.BetaL', 'POW.O2.BetaH', 'POW.O2.Gamma', 'POW.P8.Theta',\n",
       "       'POW.P8.Alpha', 'POW.P8.BetaL', 'POW.P8.BetaH', 'POW.P8.Gamma',\n",
       "       'POW.T8.Theta', 'POW.T8.Alpha', 'POW.T8.BetaL', 'POW.T8.BetaH',\n",
       "       'POW.T8.Gamma', 'POW.FC6.Theta', 'POW.FC6.Alpha', 'POW.FC6.BetaL',\n",
       "       'POW.FC6.BetaH', 'POW.FC6.Gamma', 'POW.F4.Theta', 'POW.F4.Alpha',\n",
       "       'POW.F4.BetaL', 'POW.F4.BetaH', 'POW.F4.Gamma', 'POW.F8.Theta',\n",
       "       'POW.F8.Alpha', 'POW.F8.BetaL', 'POW.F8.BetaH', 'POW.F8.Gamma',\n",
       "       'POW.AF4.Theta', 'POW.AF4.Alpha', 'POW.AF4.BetaL', 'POW.AF4.BetaH',\n",
       "       'POW.AF4.Gamma', 'subject_understood', 'Age', 'Education Level',\n",
       "       'Fields of Interest', 'Title'],\n",
       "      dtype='object')"
      ]
     },
     "execution_count": 5,
     "metadata": {},
     "output_type": "execute_result"
    }
   ],
   "source": [
    "df.columns"
   ]
  },
  {
   "cell_type": "code",
   "execution_count": 6,
   "id": "bcfd0d6c",
   "metadata": {},
   "outputs": [
    {
     "data": {
      "text/plain": [
       "array(['Quantum Physics', 'Quantum Physics', 'Quantum Physics', ...,\n",
       "       'Classical Mythology', 'Classical Mythology',\n",
       "       'Classical Mythology'], dtype=object)"
      ]
     },
     "execution_count": 6,
     "metadata": {},
     "output_type": "execute_result"
    }
   ],
   "source": [
    "df.Title.values"
   ]
  },
  {
   "cell_type": "code",
   "execution_count": null,
   "id": "d31ca528",
   "metadata": {
    "scrolled": true
   },
   "outputs": [],
   "source": []
  },
  {
   "cell_type": "code",
   "execution_count": 7,
   "id": "a33ac69d",
   "metadata": {},
   "outputs": [],
   "source": [
    "df=df.drop(['POW.AF3.Theta',\n",
    "       'POW.AF3.Alpha', 'POW.AF3.BetaL', 'POW.AF3.BetaH', 'POW.AF3.Gamma',\n",
    "       'POW.F7.Theta', 'POW.F7.Alpha', 'POW.F7.BetaL', 'POW.F7.BetaH',\n",
    "       'POW.F7.Gamma', 'POW.F3.Theta', 'POW.F3.Alpha', 'POW.F3.BetaL',\n",
    "       'POW.F3.BetaH', 'POW.F3.Gamma', 'POW.FC5.Theta', 'POW.FC5.Alpha',\n",
    "       'POW.FC5.BetaL', 'POW.FC5.BetaH', 'POW.FC5.Gamma', 'POW.T7.Theta',\n",
    "       'POW.T7.Alpha', 'POW.T7.BetaL', 'POW.T7.BetaH', 'POW.T7.Gamma',\n",
    "       'POW.P7.Theta', 'POW.P7.Alpha', 'POW.P7.BetaL', 'POW.P7.BetaH',\n",
    "       'POW.P7.Gamma', 'POW.O1.Theta', 'POW.O1.Alpha', 'POW.O1.BetaL',\n",
    "       'POW.O1.BetaH', 'POW.O1.Gamma', 'POW.O2.Theta', 'POW.O2.Alpha',\n",
    "       'POW.O2.BetaL', 'POW.O2.BetaH', 'POW.O2.Gamma', 'POW.P8.Theta',\n",
    "       'POW.P8.Alpha', 'POW.P8.BetaL', 'POW.P8.BetaH', 'POW.P8.Gamma',\n",
    "       'POW.T8.Theta', 'POW.T8.Alpha', 'POW.T8.BetaL', 'POW.T8.BetaH',\n",
    "       'POW.T8.Gamma', 'POW.FC6.Theta', 'POW.FC6.Alpha', 'POW.FC6.BetaL',\n",
    "       'POW.FC6.BetaH', 'POW.FC6.Gamma', 'POW.F4.Theta', 'POW.F4.Alpha',\n",
    "       'POW.F4.BetaL', 'POW.F4.BetaH', 'POW.F4.Gamma', 'POW.F8.Theta',\n",
    "       'POW.F8.Alpha', 'POW.F8.BetaL', 'POW.F8.BetaH', 'POW.F8.Gamma',\n",
    "       'POW.AF4.Theta', 'POW.AF4.Alpha', 'POW.AF4.BetaL', 'POW.AF4.BetaH',\n",
    "       'POW.AF4.Gamma','Unnamed: 0','Age','subject_id','video_id','Education Level','Title','Fields of Interest'],axis=1)"
   ]
  },
  {
   "cell_type": "code",
   "execution_count": 8,
   "id": "de6d313a",
   "metadata": {},
   "outputs": [
    {
     "data": {
      "text/html": [
       "<div>\n",
       "<style scoped>\n",
       "    .dataframe tbody tr th:only-of-type {\n",
       "        vertical-align: middle;\n",
       "    }\n",
       "\n",
       "    .dataframe tbody tr th {\n",
       "        vertical-align: top;\n",
       "    }\n",
       "\n",
       "    .dataframe thead th {\n",
       "        text-align: right;\n",
       "    }\n",
       "</style>\n",
       "<table border=\"1\" class=\"dataframe\">\n",
       "  <thead>\n",
       "    <tr style=\"text-align: right;\">\n",
       "      <th></th>\n",
       "      <th>EEG.AF3</th>\n",
       "      <th>EEG.F7</th>\n",
       "      <th>EEG.F3</th>\n",
       "      <th>EEG.FC5</th>\n",
       "      <th>EEG.T7</th>\n",
       "      <th>EEG.P7</th>\n",
       "      <th>EEG.O1</th>\n",
       "      <th>EEG.O2</th>\n",
       "      <th>EEG.P8</th>\n",
       "      <th>EEG.T8</th>\n",
       "      <th>EEG.FC6</th>\n",
       "      <th>EEG.F4</th>\n",
       "      <th>EEG.F8</th>\n",
       "      <th>EEG.AF4</th>\n",
       "      <th>subject_understood</th>\n",
       "    </tr>\n",
       "  </thead>\n",
       "  <tbody>\n",
       "    <tr>\n",
       "      <th>0</th>\n",
       "      <td>4210.641113</td>\n",
       "      <td>4179.102539</td>\n",
       "      <td>4287.948730</td>\n",
       "      <td>4235.384766</td>\n",
       "      <td>4207.948730</td>\n",
       "      <td>4165.000000</td>\n",
       "      <td>4135.897461</td>\n",
       "      <td>4170.000000</td>\n",
       "      <td>4155.384766</td>\n",
       "      <td>4157.179688</td>\n",
       "      <td>4610.384766</td>\n",
       "      <td>4388.846191</td>\n",
       "      <td>4413.461426</td>\n",
       "      <td>4499.743652</td>\n",
       "      <td>Not Understood</td>\n",
       "    </tr>\n",
       "    <tr>\n",
       "      <th>1</th>\n",
       "      <td>4201.025879</td>\n",
       "      <td>4188.717773</td>\n",
       "      <td>4280.128418</td>\n",
       "      <td>4236.922852</td>\n",
       "      <td>4209.615234</td>\n",
       "      <td>4152.436035</td>\n",
       "      <td>4130.128418</td>\n",
       "      <td>4149.487305</td>\n",
       "      <td>4149.487305</td>\n",
       "      <td>4157.820313</td>\n",
       "      <td>4583.717773</td>\n",
       "      <td>4376.666504</td>\n",
       "      <td>4392.820313</td>\n",
       "      <td>4488.461426</td>\n",
       "      <td>Not Understood</td>\n",
       "    </tr>\n",
       "    <tr>\n",
       "      <th>2</th>\n",
       "      <td>4203.205078</td>\n",
       "      <td>4182.820313</td>\n",
       "      <td>4282.820313</td>\n",
       "      <td>4231.025879</td>\n",
       "      <td>4207.820313</td>\n",
       "      <td>4172.436035</td>\n",
       "      <td>4131.538574</td>\n",
       "      <td>4147.948730</td>\n",
       "      <td>4131.666504</td>\n",
       "      <td>4131.666504</td>\n",
       "      <td>4574.743652</td>\n",
       "      <td>4377.051270</td>\n",
       "      <td>4390.512695</td>\n",
       "      <td>4483.077148</td>\n",
       "      <td>Not Understood</td>\n",
       "    </tr>\n",
       "    <tr>\n",
       "      <th>3</th>\n",
       "      <td>4186.538574</td>\n",
       "      <td>4168.717773</td>\n",
       "      <td>4266.794922</td>\n",
       "      <td>4229.230957</td>\n",
       "      <td>4202.179688</td>\n",
       "      <td>4155.384766</td>\n",
       "      <td>4128.333496</td>\n",
       "      <td>4151.666504</td>\n",
       "      <td>4136.666504</td>\n",
       "      <td>4134.230957</td>\n",
       "      <td>4565.512695</td>\n",
       "      <td>4362.436035</td>\n",
       "      <td>4380.897461</td>\n",
       "      <td>4471.025879</td>\n",
       "      <td>Not Understood</td>\n",
       "    </tr>\n",
       "    <tr>\n",
       "      <th>4</th>\n",
       "      <td>4232.436035</td>\n",
       "      <td>4216.922852</td>\n",
       "      <td>4306.922852</td>\n",
       "      <td>4270.769043</td>\n",
       "      <td>4217.436035</td>\n",
       "      <td>4166.538574</td>\n",
       "      <td>4155.897461</td>\n",
       "      <td>4162.820313</td>\n",
       "      <td>4143.461426</td>\n",
       "      <td>4154.487305</td>\n",
       "      <td>4612.436035</td>\n",
       "      <td>4403.333496</td>\n",
       "      <td>4410.641113</td>\n",
       "      <td>4512.179688</td>\n",
       "      <td>Not Understood</td>\n",
       "    </tr>\n",
       "  </tbody>\n",
       "</table>\n",
       "</div>"
      ],
      "text/plain": [
       "       EEG.AF3       EEG.F7       EEG.F3      EEG.FC5       EEG.T7  \\\n",
       "0  4210.641113  4179.102539  4287.948730  4235.384766  4207.948730   \n",
       "1  4201.025879  4188.717773  4280.128418  4236.922852  4209.615234   \n",
       "2  4203.205078  4182.820313  4282.820313  4231.025879  4207.820313   \n",
       "3  4186.538574  4168.717773  4266.794922  4229.230957  4202.179688   \n",
       "4  4232.436035  4216.922852  4306.922852  4270.769043  4217.436035   \n",
       "\n",
       "        EEG.P7       EEG.O1       EEG.O2       EEG.P8       EEG.T8  \\\n",
       "0  4165.000000  4135.897461  4170.000000  4155.384766  4157.179688   \n",
       "1  4152.436035  4130.128418  4149.487305  4149.487305  4157.820313   \n",
       "2  4172.436035  4131.538574  4147.948730  4131.666504  4131.666504   \n",
       "3  4155.384766  4128.333496  4151.666504  4136.666504  4134.230957   \n",
       "4  4166.538574  4155.897461  4162.820313  4143.461426  4154.487305   \n",
       "\n",
       "       EEG.FC6       EEG.F4       EEG.F8      EEG.AF4 subject_understood  \n",
       "0  4610.384766  4388.846191  4413.461426  4499.743652     Not Understood  \n",
       "1  4583.717773  4376.666504  4392.820313  4488.461426     Not Understood  \n",
       "2  4574.743652  4377.051270  4390.512695  4483.077148     Not Understood  \n",
       "3  4565.512695  4362.436035  4380.897461  4471.025879     Not Understood  \n",
       "4  4612.436035  4403.333496  4410.641113  4512.179688     Not Understood  "
      ]
     },
     "execution_count": 8,
     "metadata": {},
     "output_type": "execute_result"
    }
   ],
   "source": [
    "df.head()"
   ]
  },
  {
   "cell_type": "code",
   "execution_count": 9,
   "id": "e4d3926a",
   "metadata": {},
   "outputs": [],
   "source": [
    "df['subject_understood'].replace(['Not Understood', 'Understood'],\n",
    "                        [0, 1], inplace=True)"
   ]
  },
  {
   "cell_type": "code",
   "execution_count": 10,
   "id": "1c8a18c1",
   "metadata": {},
   "outputs": [
    {
     "data": {
      "text/plain": [
       "Index(['EEG.AF3', 'EEG.F7', 'EEG.F3', 'EEG.FC5', 'EEG.T7', 'EEG.P7', 'EEG.O1',\n",
       "       'EEG.O2', 'EEG.P8', 'EEG.T8', 'EEG.FC6', 'EEG.F4', 'EEG.F8', 'EEG.AF4',\n",
       "       'subject_understood'],\n",
       "      dtype='object')"
      ]
     },
     "execution_count": 10,
     "metadata": {},
     "output_type": "execute_result"
    }
   ],
   "source": [
    "df.columns"
   ]
  },
  {
   "cell_type": "code",
   "execution_count": 11,
   "id": "c89ffa68",
   "metadata": {},
   "outputs": [
    {
     "data": {
      "text/html": [
       "<div>\n",
       "<style scoped>\n",
       "    .dataframe tbody tr th:only-of-type {\n",
       "        vertical-align: middle;\n",
       "    }\n",
       "\n",
       "    .dataframe tbody tr th {\n",
       "        vertical-align: top;\n",
       "    }\n",
       "\n",
       "    .dataframe thead th {\n",
       "        text-align: right;\n",
       "    }\n",
       "</style>\n",
       "<table border=\"1\" class=\"dataframe\">\n",
       "  <thead>\n",
       "    <tr style=\"text-align: right;\">\n",
       "      <th></th>\n",
       "      <th>EEG.AF3</th>\n",
       "      <th>EEG.F7</th>\n",
       "      <th>EEG.F3</th>\n",
       "      <th>EEG.FC5</th>\n",
       "      <th>EEG.T7</th>\n",
       "      <th>EEG.P7</th>\n",
       "      <th>EEG.O1</th>\n",
       "      <th>EEG.O2</th>\n",
       "      <th>EEG.P8</th>\n",
       "      <th>EEG.T8</th>\n",
       "      <th>EEG.FC6</th>\n",
       "      <th>EEG.F4</th>\n",
       "      <th>EEG.F8</th>\n",
       "      <th>EEG.AF4</th>\n",
       "      <th>subject_understood</th>\n",
       "    </tr>\n",
       "  </thead>\n",
       "  <tbody>\n",
       "    <tr>\n",
       "      <th>0</th>\n",
       "      <td>4210.641113</td>\n",
       "      <td>4179.102539</td>\n",
       "      <td>4287.948730</td>\n",
       "      <td>4235.384766</td>\n",
       "      <td>4207.948730</td>\n",
       "      <td>4165.000000</td>\n",
       "      <td>4135.897461</td>\n",
       "      <td>4170.000000</td>\n",
       "      <td>4155.384766</td>\n",
       "      <td>4157.179688</td>\n",
       "      <td>4610.384766</td>\n",
       "      <td>4388.846191</td>\n",
       "      <td>4413.461426</td>\n",
       "      <td>4499.743652</td>\n",
       "      <td>0</td>\n",
       "    </tr>\n",
       "    <tr>\n",
       "      <th>1</th>\n",
       "      <td>4201.025879</td>\n",
       "      <td>4188.717773</td>\n",
       "      <td>4280.128418</td>\n",
       "      <td>4236.922852</td>\n",
       "      <td>4209.615234</td>\n",
       "      <td>4152.436035</td>\n",
       "      <td>4130.128418</td>\n",
       "      <td>4149.487305</td>\n",
       "      <td>4149.487305</td>\n",
       "      <td>4157.820313</td>\n",
       "      <td>4583.717773</td>\n",
       "      <td>4376.666504</td>\n",
       "      <td>4392.820313</td>\n",
       "      <td>4488.461426</td>\n",
       "      <td>0</td>\n",
       "    </tr>\n",
       "    <tr>\n",
       "      <th>2</th>\n",
       "      <td>4203.205078</td>\n",
       "      <td>4182.820313</td>\n",
       "      <td>4282.820313</td>\n",
       "      <td>4231.025879</td>\n",
       "      <td>4207.820313</td>\n",
       "      <td>4172.436035</td>\n",
       "      <td>4131.538574</td>\n",
       "      <td>4147.948730</td>\n",
       "      <td>4131.666504</td>\n",
       "      <td>4131.666504</td>\n",
       "      <td>4574.743652</td>\n",
       "      <td>4377.051270</td>\n",
       "      <td>4390.512695</td>\n",
       "      <td>4483.077148</td>\n",
       "      <td>0</td>\n",
       "    </tr>\n",
       "    <tr>\n",
       "      <th>3</th>\n",
       "      <td>4186.538574</td>\n",
       "      <td>4168.717773</td>\n",
       "      <td>4266.794922</td>\n",
       "      <td>4229.230957</td>\n",
       "      <td>4202.179688</td>\n",
       "      <td>4155.384766</td>\n",
       "      <td>4128.333496</td>\n",
       "      <td>4151.666504</td>\n",
       "      <td>4136.666504</td>\n",
       "      <td>4134.230957</td>\n",
       "      <td>4565.512695</td>\n",
       "      <td>4362.436035</td>\n",
       "      <td>4380.897461</td>\n",
       "      <td>4471.025879</td>\n",
       "      <td>0</td>\n",
       "    </tr>\n",
       "    <tr>\n",
       "      <th>4</th>\n",
       "      <td>4232.436035</td>\n",
       "      <td>4216.922852</td>\n",
       "      <td>4306.922852</td>\n",
       "      <td>4270.769043</td>\n",
       "      <td>4217.436035</td>\n",
       "      <td>4166.538574</td>\n",
       "      <td>4155.897461</td>\n",
       "      <td>4162.820313</td>\n",
       "      <td>4143.461426</td>\n",
       "      <td>4154.487305</td>\n",
       "      <td>4612.436035</td>\n",
       "      <td>4403.333496</td>\n",
       "      <td>4410.641113</td>\n",
       "      <td>4512.179688</td>\n",
       "      <td>0</td>\n",
       "    </tr>\n",
       "  </tbody>\n",
       "</table>\n",
       "</div>"
      ],
      "text/plain": [
       "       EEG.AF3       EEG.F7       EEG.F3      EEG.FC5       EEG.T7  \\\n",
       "0  4210.641113  4179.102539  4287.948730  4235.384766  4207.948730   \n",
       "1  4201.025879  4188.717773  4280.128418  4236.922852  4209.615234   \n",
       "2  4203.205078  4182.820313  4282.820313  4231.025879  4207.820313   \n",
       "3  4186.538574  4168.717773  4266.794922  4229.230957  4202.179688   \n",
       "4  4232.436035  4216.922852  4306.922852  4270.769043  4217.436035   \n",
       "\n",
       "        EEG.P7       EEG.O1       EEG.O2       EEG.P8       EEG.T8  \\\n",
       "0  4165.000000  4135.897461  4170.000000  4155.384766  4157.179688   \n",
       "1  4152.436035  4130.128418  4149.487305  4149.487305  4157.820313   \n",
       "2  4172.436035  4131.538574  4147.948730  4131.666504  4131.666504   \n",
       "3  4155.384766  4128.333496  4151.666504  4136.666504  4134.230957   \n",
       "4  4166.538574  4155.897461  4162.820313  4143.461426  4154.487305   \n",
       "\n",
       "       EEG.FC6       EEG.F4       EEG.F8      EEG.AF4  subject_understood  \n",
       "0  4610.384766  4388.846191  4413.461426  4499.743652                   0  \n",
       "1  4583.717773  4376.666504  4392.820313  4488.461426                   0  \n",
       "2  4574.743652  4377.051270  4390.512695  4483.077148                   0  \n",
       "3  4565.512695  4362.436035  4380.897461  4471.025879                   0  \n",
       "4  4612.436035  4403.333496  4410.641113  4512.179688                   0  "
      ]
     },
     "execution_count": 11,
     "metadata": {},
     "output_type": "execute_result"
    }
   ],
   "source": [
    "df.head()"
   ]
  },
  {
   "cell_type": "code",
   "execution_count": 12,
   "id": "c54ae4c6",
   "metadata": {},
   "outputs": [
    {
     "data": {
      "text/html": [
       "<div>\n",
       "<style scoped>\n",
       "    .dataframe tbody tr th:only-of-type {\n",
       "        vertical-align: middle;\n",
       "    }\n",
       "\n",
       "    .dataframe tbody tr th {\n",
       "        vertical-align: top;\n",
       "    }\n",
       "\n",
       "    .dataframe thead th {\n",
       "        text-align: right;\n",
       "    }\n",
       "</style>\n",
       "<table border=\"1\" class=\"dataframe\">\n",
       "  <thead>\n",
       "    <tr style=\"text-align: right;\">\n",
       "      <th></th>\n",
       "      <th>EEG.AF3</th>\n",
       "      <th>EEG.F7</th>\n",
       "      <th>EEG.F3</th>\n",
       "      <th>EEG.FC5</th>\n",
       "      <th>EEG.T7</th>\n",
       "      <th>EEG.P7</th>\n",
       "      <th>EEG.O1</th>\n",
       "      <th>EEG.O2</th>\n",
       "      <th>EEG.P8</th>\n",
       "      <th>EEG.T8</th>\n",
       "      <th>EEG.FC6</th>\n",
       "      <th>EEG.F4</th>\n",
       "      <th>EEG.F8</th>\n",
       "      <th>EEG.AF4</th>\n",
       "      <th>subject_understood</th>\n",
       "    </tr>\n",
       "  </thead>\n",
       "  <tbody>\n",
       "    <tr>\n",
       "      <th>count</th>\n",
       "      <td>68831.000000</td>\n",
       "      <td>68831.000000</td>\n",
       "      <td>68831.000000</td>\n",
       "      <td>68831.000000</td>\n",
       "      <td>68831.000000</td>\n",
       "      <td>68831.000000</td>\n",
       "      <td>68831.000000</td>\n",
       "      <td>68831.000000</td>\n",
       "      <td>68831.000000</td>\n",
       "      <td>68831.000000</td>\n",
       "      <td>68831.000000</td>\n",
       "      <td>68831.000000</td>\n",
       "      <td>68831.000000</td>\n",
       "      <td>68831.000000</td>\n",
       "      <td>68831.000000</td>\n",
       "    </tr>\n",
       "    <tr>\n",
       "      <th>mean</th>\n",
       "      <td>4276.496212</td>\n",
       "      <td>4257.994590</td>\n",
       "      <td>4302.803482</td>\n",
       "      <td>4292.027479</td>\n",
       "      <td>4302.093465</td>\n",
       "      <td>4243.397476</td>\n",
       "      <td>4231.846947</td>\n",
       "      <td>4240.153361</td>\n",
       "      <td>4228.921293</td>\n",
       "      <td>4227.328318</td>\n",
       "      <td>4495.170125</td>\n",
       "      <td>4394.501956</td>\n",
       "      <td>4372.054054</td>\n",
       "      <td>4440.803304</td>\n",
       "      <td>0.789906</td>\n",
       "    </tr>\n",
       "    <tr>\n",
       "      <th>std</th>\n",
       "      <td>115.584631</td>\n",
       "      <td>140.884855</td>\n",
       "      <td>113.720961</td>\n",
       "      <td>135.578849</td>\n",
       "      <td>117.727171</td>\n",
       "      <td>118.189886</td>\n",
       "      <td>115.590762</td>\n",
       "      <td>137.366806</td>\n",
       "      <td>121.992155</td>\n",
       "      <td>112.405972</td>\n",
       "      <td>160.121525</td>\n",
       "      <td>128.326724</td>\n",
       "      <td>146.867287</td>\n",
       "      <td>126.357635</td>\n",
       "      <td>0.407378</td>\n",
       "    </tr>\n",
       "    <tr>\n",
       "      <th>min</th>\n",
       "      <td>1030.769287</td>\n",
       "      <td>805.384644</td>\n",
       "      <td>1320.769287</td>\n",
       "      <td>806.538452</td>\n",
       "      <td>1904.487183</td>\n",
       "      <td>1710.769287</td>\n",
       "      <td>1794.871826</td>\n",
       "      <td>1466.538452</td>\n",
       "      <td>1617.051270</td>\n",
       "      <td>1314.743530</td>\n",
       "      <td>697.948730</td>\n",
       "      <td>1070.256470</td>\n",
       "      <td>1037.948730</td>\n",
       "      <td>2112.307617</td>\n",
       "      <td>0.000000</td>\n",
       "    </tr>\n",
       "    <tr>\n",
       "      <th>25%</th>\n",
       "      <td>4258.461426</td>\n",
       "      <td>4236.410156</td>\n",
       "      <td>4283.205078</td>\n",
       "      <td>4273.077148</td>\n",
       "      <td>4282.436035</td>\n",
       "      <td>4220.769043</td>\n",
       "      <td>4211.602539</td>\n",
       "      <td>4218.205078</td>\n",
       "      <td>4207.179688</td>\n",
       "      <td>4202.179688</td>\n",
       "      <td>4455.641113</td>\n",
       "      <td>4373.589844</td>\n",
       "      <td>4347.948730</td>\n",
       "      <td>4409.743652</td>\n",
       "      <td>1.000000</td>\n",
       "    </tr>\n",
       "    <tr>\n",
       "      <th>50%</th>\n",
       "      <td>4287.307617</td>\n",
       "      <td>4266.538574</td>\n",
       "      <td>4305.897461</td>\n",
       "      <td>4297.436035</td>\n",
       "      <td>4312.179688</td>\n",
       "      <td>4253.846191</td>\n",
       "      <td>4244.487305</td>\n",
       "      <td>4252.948730</td>\n",
       "      <td>4243.461426</td>\n",
       "      <td>4242.692383</td>\n",
       "      <td>4488.461426</td>\n",
       "      <td>4398.333496</td>\n",
       "      <td>4372.307617</td>\n",
       "      <td>4436.410156</td>\n",
       "      <td>1.000000</td>\n",
       "    </tr>\n",
       "    <tr>\n",
       "      <th>75%</th>\n",
       "      <td>4311.153809</td>\n",
       "      <td>4296.153809</td>\n",
       "      <td>4327.692383</td>\n",
       "      <td>4322.563965</td>\n",
       "      <td>4342.179688</td>\n",
       "      <td>4282.820313</td>\n",
       "      <td>4271.794922</td>\n",
       "      <td>4279.615234</td>\n",
       "      <td>4268.846191</td>\n",
       "      <td>4269.871582</td>\n",
       "      <td>4519.871582</td>\n",
       "      <td>4423.846191</td>\n",
       "      <td>4396.666504</td>\n",
       "      <td>4464.358887</td>\n",
       "      <td>1.000000</td>\n",
       "    </tr>\n",
       "    <tr>\n",
       "      <th>max</th>\n",
       "      <td>6238.077148</td>\n",
       "      <td>7599.615234</td>\n",
       "      <td>6291.794922</td>\n",
       "      <td>7600.128418</td>\n",
       "      <td>7599.615234</td>\n",
       "      <td>6695.641113</td>\n",
       "      <td>7525.128418</td>\n",
       "      <td>7611.025879</td>\n",
       "      <td>6159.487305</td>\n",
       "      <td>6221.794922</td>\n",
       "      <td>7713.589844</td>\n",
       "      <td>7604.487305</td>\n",
       "      <td>7603.205078</td>\n",
       "      <td>7600.897461</td>\n",
       "      <td>1.000000</td>\n",
       "    </tr>\n",
       "  </tbody>\n",
       "</table>\n",
       "</div>"
      ],
      "text/plain": [
       "            EEG.AF3        EEG.F7        EEG.F3       EEG.FC5        EEG.T7  \\\n",
       "count  68831.000000  68831.000000  68831.000000  68831.000000  68831.000000   \n",
       "mean    4276.496212   4257.994590   4302.803482   4292.027479   4302.093465   \n",
       "std      115.584631    140.884855    113.720961    135.578849    117.727171   \n",
       "min     1030.769287    805.384644   1320.769287    806.538452   1904.487183   \n",
       "25%     4258.461426   4236.410156   4283.205078   4273.077148   4282.436035   \n",
       "50%     4287.307617   4266.538574   4305.897461   4297.436035   4312.179688   \n",
       "75%     4311.153809   4296.153809   4327.692383   4322.563965   4342.179688   \n",
       "max     6238.077148   7599.615234   6291.794922   7600.128418   7599.615234   \n",
       "\n",
       "             EEG.P7        EEG.O1        EEG.O2        EEG.P8        EEG.T8  \\\n",
       "count  68831.000000  68831.000000  68831.000000  68831.000000  68831.000000   \n",
       "mean    4243.397476   4231.846947   4240.153361   4228.921293   4227.328318   \n",
       "std      118.189886    115.590762    137.366806    121.992155    112.405972   \n",
       "min     1710.769287   1794.871826   1466.538452   1617.051270   1314.743530   \n",
       "25%     4220.769043   4211.602539   4218.205078   4207.179688   4202.179688   \n",
       "50%     4253.846191   4244.487305   4252.948730   4243.461426   4242.692383   \n",
       "75%     4282.820313   4271.794922   4279.615234   4268.846191   4269.871582   \n",
       "max     6695.641113   7525.128418   7611.025879   6159.487305   6221.794922   \n",
       "\n",
       "            EEG.FC6        EEG.F4        EEG.F8       EEG.AF4  \\\n",
       "count  68831.000000  68831.000000  68831.000000  68831.000000   \n",
       "mean    4495.170125   4394.501956   4372.054054   4440.803304   \n",
       "std      160.121525    128.326724    146.867287    126.357635   \n",
       "min      697.948730   1070.256470   1037.948730   2112.307617   \n",
       "25%     4455.641113   4373.589844   4347.948730   4409.743652   \n",
       "50%     4488.461426   4398.333496   4372.307617   4436.410156   \n",
       "75%     4519.871582   4423.846191   4396.666504   4464.358887   \n",
       "max     7713.589844   7604.487305   7603.205078   7600.897461   \n",
       "\n",
       "       subject_understood  \n",
       "count        68831.000000  \n",
       "mean             0.789906  \n",
       "std              0.407378  \n",
       "min              0.000000  \n",
       "25%              1.000000  \n",
       "50%              1.000000  \n",
       "75%              1.000000  \n",
       "max              1.000000  "
      ]
     },
     "execution_count": 12,
     "metadata": {},
     "output_type": "execute_result"
    }
   ],
   "source": [
    "df.describe()"
   ]
  },
  {
   "cell_type": "code",
   "execution_count": 13,
   "id": "7af457a3",
   "metadata": {},
   "outputs": [],
   "source": [
    "from scipy import stats\n",
    "df_zscore = df[(np.abs(stats.zscore(df)) < 3).all(axis=1)]"
   ]
  },
  {
   "cell_type": "code",
   "execution_count": 14,
   "id": "a048791d",
   "metadata": {},
   "outputs": [],
   "source": [
    "import pandas as pd\n",
    "\n",
    "def remove_outliers(df,columns,n_std):\n",
    "    for col in columns:\n",
    "        print('Working on column: {}'.format(col))\n",
    "        \n",
    "        mean = df[col].mean()\n",
    "        sd = df[col].std()\n",
    "        \n",
    "        df = df[(df[col] <= mean+(n_std*sd))]\n",
    "        \n",
    "    return df"
   ]
  },
  {
   "cell_type": "code",
   "execution_count": 15,
   "id": "a27be71f",
   "metadata": {},
   "outputs": [
    {
     "name": "stdout",
     "output_type": "stream",
     "text": [
      "Working on column: EEG.AF3\n",
      "Working on column: EEG.F7\n",
      "Working on column: EEG.F3\n",
      "Working on column: EEG.FC5\n",
      "Working on column: EEG.T7\n",
      "Working on column: EEG.P7\n",
      "Working on column: EEG.O1\n",
      "Working on column: EEG.O2\n",
      "Working on column: EEG.P8\n",
      "Working on column: EEG.T8\n",
      "Working on column: EEG.FC6\n",
      "Working on column: EEG.F4\n",
      "Working on column: EEG.F8\n",
      "Working on column: EEG.AF4\n",
      "Working on column: subject_understood\n"
     ]
    }
   ],
   "source": [
    "columns = df.columns\n",
    "n_std = 3\n",
    "df_no_outliers = remove_outliers(df_zscore, columns, n_std)"
   ]
  },
  {
   "cell_type": "code",
   "execution_count": 17,
   "id": "c3cb0fe1",
   "metadata": {},
   "outputs": [
    {
     "data": {
      "text/plain": [
       "<AxesSubplot:xlabel='EEG.AF3'>"
      ]
     },
     "execution_count": 17,
     "metadata": {},
     "output_type": "execute_result"
    },
    {
     "data": {
      "image/png": "[encoded data removed]",
      "text/plain": [
       "<Figure size 432x288 with 1 Axes>"
      ]
     },
     "metadata": {
      "needs_background": "light"
     },
     "output_type": "display_data"
    }
   ],
   "source": [
    "sns.boxplot(x = 'EEG.AF3', data=df_no_outliers)"
   ]
  },
  {
   "cell_type": "code",
   "execution_count": 20,
   "id": "ee77e418",
   "metadata": {},
   "outputs": [
    {
     "data": {
      "text/plain": [
       "<AxesSubplot:xlabel='EEG.AF3', ylabel='Density'>"
      ]
     },
     "execution_count": 20,
     "metadata": {},
     "output_type": "execute_result"
    },
    {
     "data": {
      "image/png": "[encoded data removed]",
      "text/plain": [
       "<Figure size 432x288 with 1 Axes>"
      ]
     },
     "metadata": {
      "needs_background": "light"
     },
     "output_type": "display_data"
    }
   ],
   "source": [
    "sns.kdeplot(x = 'EEG.AF3', data = df_no_outliers)"
   ]
  },
  {
   "cell_type": "code",
   "execution_count": 21,
   "id": "6dc8d0ea",
   "metadata": {},
   "outputs": [
    {
     "data": {
      "text/plain": [
       "<AxesSubplot:xlabel='EEG.AF3'>"
      ]
     },
     "execution_count": 21,
     "metadata": {},
     "output_type": "execute_result"
    },
    {
     "data": {
      "image/png": "[encoded data removed]",
      "text/plain": [
       "<Figure size 432x288 with 1 Axes>"
      ]
     },
     "metadata": {
      "needs_background": "light"
     },
     "output_type": "display_data"
    }
   ],
   "source": [
    "sns.boxplot(x = 'EEG.AF3', data= df_no_outliers)"
   ]
  },
  {
   "cell_type": "code",
   "execution_count": 22,
   "id": "fc269921",
   "metadata": {},
   "outputs": [],
   "source": [
    "X = df_no_outliers.drop('subject_understood', axis=1)\n",
    "\n",
    "Y = df_no_outliers['subject_understood']"
   ]
  },
  {
   "cell_type": "code",
   "execution_count": 23,
   "id": "f9587caf",
   "metadata": {},
   "outputs": [],
   "source": [
    "from sklearn.model_selection import train_test_split\n",
    "\n",
    "X_train, X_test, Y_train, Y_test = train_test_split(X, Y, test_size=0.3, random_state=1)"
   ]
  },
  {
   "cell_type": "code",
   "execution_count": 24,
   "id": "333a97ce",
   "metadata": {},
   "outputs": [],
   "source": [
    "from sklearn.preprocessing import StandardScaler\n",
    "\n",
    "sc = StandardScaler()\n",
    "X_train = sc.fit_transform(X_train)\n",
    "X_test = sc.transform(X_test)"
   ]
  },
  {
   "cell_type": "code",
   "execution_count": 25,
   "id": "ec38daa2",
   "metadata": {},
   "outputs": [],
   "source": [
    "from sklearn import datasets, linear_model, metrics\n",
    "reg = linear_model.LogisticRegression()\n",
    "reg.fit(X_train, Y_train)\n",
    "y_pred = reg.predict(X_test)"
   ]
  },
  {
   "cell_type": "code",
   "execution_count": 26,
   "id": "2bd9bd40",
   "metadata": {},
   "outputs": [
    {
     "name": "stdout",
     "output_type": "stream",
     "text": [
      "Logistic Regression model accuracy(in %): 84.3477287983889\n"
     ]
    }
   ],
   "source": [
    "print(\"Logistic Regression model accuracy(in %):\", \n",
    "metrics.accuracy_score(Y_test, y_pred)*100)"
   ]
  },
  {
   "cell_type": "code",
   "execution_count": 27,
   "id": "f295845a",
   "metadata": {},
   "outputs": [
    {
     "name": "stdout",
     "output_type": "stream",
     "text": [
      "Mean Absolute Error: 0.15652271201611098\n",
      "Mean Squared Error: 0.15652271201611098\n",
      "Root Mean Squared Error: 0.39562951358071224\n"
     ]
    }
   ],
   "source": [
    "from sklearn import metrics\n",
    "\n",
    "print('Mean Absolute Error:', metrics.mean_absolute_error(Y_test, y_pred))\n",
    "print('Mean Squared Error:', metrics.mean_squared_error(Y_test, y_pred))\n",
    "print('Root Mean Squared Error:', np.sqrt(metrics.mean_squared_error(Y_test, y_pred)))"
   ]
  },
  {
   "cell_type": "code",
   "execution_count": 28,
   "id": "3e78c400",
   "metadata": {},
   "outputs": [
    {
     "name": "stdout",
     "output_type": "stream",
     "text": [
      "[[  491  2439]\n",
      " [  359 14587]]\n",
      "              precision    recall  f1-score   support\n",
      "\n",
      "           0       0.58      0.17      0.26      2930\n",
      "           1       0.86      0.98      0.91     14946\n",
      "\n",
      "    accuracy                           0.84     17876\n",
      "   macro avg       0.72      0.57      0.59     17876\n",
      "weighted avg       0.81      0.84      0.81     17876\n",
      "\n",
      "0.843477287983889\n"
     ]
    }
   ],
   "source": [
    "from sklearn.metrics import classification_report, confusion_matrix, accuracy_score\n",
    "\n",
    "print(confusion_matrix(Y_test,y_pred))\n",
    "print(classification_report(Y_test,y_pred))\n",
    "print(accuracy_score(Y_test,y_pred))"
   ]
  },
  {
   "cell_type": "code",
   "execution_count": null,
   "id": "8d4c581e",
   "metadata": {},
   "outputs": [],
   "source": []
  }
 ],
 "metadata": {
  "kernelspec": {
   "display_name": "Python 3 (ipykernel)",
   "language": "python",
   "name": "python3"
  },
  "language_info": {
   "codemirror_mode": {
    "name": "ipython",
    "version": 3
   },
   "file_extension": ".py",
   "mimetype": "text/x-python",
   "name": "python",
   "nbconvert_exporter": "python",
   "pygments_lexer": "ipython3",
   "version": "3.9.7"
  }
 },
 "nbformat": 4,
 "nbformat_minor": 5
}
